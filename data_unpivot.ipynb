{
  "nbformat": 4,
  "nbformat_minor": 0,
  "metadata": {
    "colab": {
      "provenance": [],
      "authorship_tag": "ABX9TyMOg2lOSBhjOLinXz+cafH3",
      "include_colab_link": true
    },
    "kernelspec": {
      "name": "python3",
      "display_name": "Python 3"
    },
    "language_info": {
      "name": "python"
    }
  },
  "cells": [
    {
      "cell_type": "markdown",
      "metadata": {
        "id": "view-in-github",
        "colab_type": "text"
      },
      "source": [
        "<a href=\"https://colab.research.google.com/github/mrsr6113/HelloWorld/blob/master/data_unpivot.ipynb\" target=\"_parent\"><img src=\"https://colab.research.google.com/assets/colab-badge.svg\" alt=\"Open In Colab\"/></a>"
      ]
    },
    {
      "cell_type": "code",
      "execution_count": null,
      "metadata": {
        "id": "S_yyCiu3VxW-"
      },
      "outputs": [],
      "source": [
        "import pandas as pd\n",
        "import math"
      ]
    },
    {
      "cell_type": "code",
      "source": [
        "# 入力ファイル名と出力ファイル名\n",
        "input_file = 'input.csv'\n",
        "output_file = 'output.csv'"
      ],
      "metadata": {
        "id": "8KtXYdEtaYDG"
      },
      "execution_count": null,
      "outputs": []
    },
    {
      "cell_type": "code",
      "source": [
        "# CSVファイルからデータを読み込む\n",
        "df = pd.read_csv(input_file, dtype={\n",
        "    \"勘定科目コード\": str,\n",
        "    \"勘定科目名\": str,\n",
        "    \"部門コード\": str,\n",
        "    \"部門名\": str\n",
        "})"
      ],
      "metadata": {
        "id": "XHisyqIcaYGY"
      },
      "execution_count": null,
      "outputs": []
    },
    {
      "cell_type": "code",
      "source": [
        "# 金額を整数として読み込むための関数\n",
        "def parse_amount(x):\n",
        "    try:\n",
        "        return int(round(float(x), 0))\n",
        "    except (ValueError, TypeError):\n",
        "        return 0"
      ],
      "metadata": {
        "id": "7SjZwLomaYaL"
      },
      "execution_count": null,
      "outputs": []
    },
    {
      "cell_type": "code",
      "source": [
        "# 必要な列を選択し、変換する\n",
        "df = df.melt(id_vars=[\"表示順\", \"勘定科目コード\", \"勘定科目名\", \"部門コード\", \"部門名\"], var_name=\"年月日\", value_name=\"金額\")\n",
        "df = df.rename(columns={\"年月日\": \"日付\"})\n",
        "df[\"表示順\"] = df[\"表示順\"].apply(parse_amount)\n",
        "df[\"金額\"] = df[\"金額\"].apply(parse_amount)"
      ],
      "metadata": {
        "id": "yOoSsTNPv2Xq"
      },
      "execution_count": null,
      "outputs": []
    },
    {
      "cell_type": "code",
      "source": [
        "# 列の並び替え\n",
        "df = df[['日付', '表示順', '勘定科目コード', '勘定科目名', '部門コード', '部門名', '金額']]\n"
      ],
      "metadata": {
        "id": "B1U5XhOUyDgb"
      },
      "execution_count": null,
      "outputs": []
    },
    {
      "cell_type": "code",
      "source": [
        "# 空白の行を削除する\n",
        "df = df.dropna(subset=[\"表示順\", \"部門コード\", \"部門名\"], how=\"all\")"
      ],
      "metadata": {
        "id": "xHjXxKxnv2ad"
      },
      "execution_count": null,
      "outputs": []
    },
    {
      "cell_type": "code",
      "source": [
        "# ソートしてCSVファイルに出力する\n",
        "df.sort_values(['日付', '部門コード','表示順'], inplace=True)\n",
        "df.to_csv(output_file, index=False)"
      ],
      "metadata": {
        "id": "ajGkdY1gv2cz"
      },
      "execution_count": null,
      "outputs": []
    },
    {
      "cell_type": "code",
      "source": [
        "print(\"変換が完了しました。\")"
      ],
      "metadata": {
        "colab": {
          "base_uri": "https://localhost:8080/"
        },
        "id": "faVmdv4Fv2fS",
        "outputId": "66e1194f-57f5-4da8-ec9d-42b548f064bf"
      },
      "execution_count": null,
      "outputs": [
        {
          "output_type": "stream",
          "name": "stdout",
          "text": [
            "変換が完了しました。\n"
          ]
        }
      ]
    },
    {
      "cell_type": "code",
      "source": [],
      "metadata": {
        "id": "LMyr9VXav2hQ"
      },
      "execution_count": null,
      "outputs": []
    },
    {
      "cell_type": "code",
      "source": [],
      "metadata": {
        "id": "Qa_Y7IvNv2jc"
      },
      "execution_count": null,
      "outputs": []
    },
    {
      "cell_type": "code",
      "source": [],
      "metadata": {
        "id": "A4E4S1efv2lm"
      },
      "execution_count": null,
      "outputs": []
    },
    {
      "cell_type": "code",
      "source": [],
      "metadata": {
        "id": "YK6IWvA-aYc2"
      },
      "execution_count": null,
      "outputs": []
    }
  ]
}